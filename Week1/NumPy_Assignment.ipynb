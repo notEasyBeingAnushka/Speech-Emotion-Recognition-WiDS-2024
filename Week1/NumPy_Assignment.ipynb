{
 "cells": [
  {
   "cell_type": "markdown",
   "metadata": {},
   "source": [
    "## NumPy Assignment"
   ]
  },
  {
   "cell_type": "markdown",
   "metadata": {},
   "source": [
    "This assignment will introduce you to the NumPy library and demonstrate how vectorization can significantly accelerate computations compared to traditional iterative approaches.\n",
    "\n",
    "You are to only write/modify the code in between consecutive # < START > and # < END > comments. DO NOT modify other parts of the notebook."
   ]
  },
  {
   "cell_type": "markdown",
   "metadata": {},
   "source": [
    "**Start by running the below cell, to import the NumPy library.**"
   ]
  },
  {
   "cell_type": "code",
   "execution_count": null,
   "metadata": {},
   "outputs": [],
   "source": [
    "import numpy as np"
   ]
  },
  {
   "cell_type": "markdown",
   "metadata": {},
   "source": [
    "### Initialising arrays\n",
    "NumPy offers multiple methods to create and populate arrays, one of them is using the `np.array()` function.\n",
    "\n",
    "Create the following matrix with the variable arr : $$ \\begin{bmatrix}\n",
    "1 & 2 & 3 \\\\\n",
    "4 & 5 & 6 \\\\\n",
    "7 & 8 & 9\n",
    "\\end{bmatrix} $$"
   ]
  },
  {
   "cell_type": "code",
   "execution_count": null,
   "metadata": {},
   "outputs": [],
   "source": [
    "# <START>\n",
    "\n",
    "# <END>\n",
    "\n",
    "print(arr)\n",
    "print(\"Shape: \", arr.shape)"
   ]
  },
  {
   "cell_type": "markdown",
   "metadata": {},
   "source": [
    "You can also transpose arrays (same as with matrices), but a more general and commonly used function is the `array.reshape()` function\n",
    "\n",
    "Now create a new array arr_transpose which is transpose of the upper triangular matrix including the diagonal of the above matrix. The upper triangular matrix is the matrix with all elements below the diagonal equal to zero."
   ]
  },
  {
   "cell_type": "code",
   "execution_count": null,
   "metadata": {},
   "outputs": [],
   "source": [
    "# <START>\n",
    "\n",
    "# <END>\n",
    "\n",
    "print(arr_transpose)\n",
    "print(\"Shape: \", arr_transpose.shape)"
   ]
  },
  {
   "cell_type": "markdown",
   "metadata": {},
   "source": [
    "`reshape` is commonly used to flatten data stored in multi-dimensional arrays (ex: a 2D array representing a B/W image)\n",
    "\n",
    "Create a new array arr_flat that contains the same elements as arr but has been flattened to a column array\n",
    "\n",
    "`array.flatten()` converts it into a row array"
   ]
  },
  {
   "cell_type": "code",
   "execution_count": null,
   "metadata": {},
   "outputs": [],
   "source": [
    "# <START>\n",
    "\n",
    "# <END>\n",
    "\n",
    "print(arr_flatten)\n",
    "print(\"Shape: \", arr_flatten.shape)"
   ]
  },
  {
   "cell_type": "markdown",
   "metadata": {},
   "source": [
    "A few more basic methods to initialize arrays exist.\n",
    "\n",
    "- Initialize a NumPy array RANDOM_ARR of dimensions $2 \\times 3$ with random values.  Do not use the values of the dimensions directly, instead use the variables provided as arguments. Hint  : `np.random.randn()`"
   ]
  },
  {
   "cell_type": "code",
   "execution_count": null,
   "metadata": {},
   "outputs": [],
   "source": [
    "# random array\n",
    "n_rows = 2\n",
    "n_cols = 3\n",
    "\n",
    "# <START>\n",
    "\n",
    "# <END>\n",
    "\n",
    "print(\"RANDOM_ARR: \", RANDOM_ARR)"
   ]
  },
  {
   "cell_type": "markdown",
   "metadata": {},
   "source": [
    "- Create a new array ZERO_ARR of dimensions $2 \\times 1 \\times 2$ whose every element is 0"
   ]
  },
  {
   "cell_type": "code",
   "execution_count": null,
   "metadata": {},
   "outputs": [],
   "source": [
    "# zeros array\n",
    "# <START>\n",
    "\n",
    "# <END>\n",
    "\n",
    "print(\"ZERO_ARR: \", ZERO_ARR)"
   ]
  },
  {
   "cell_type": "markdown",
   "metadata": {},
   "source": [
    "- Initialize an array ONE_ARR of dimensions $2 \\times 1 \\times 2$ whose every element is 1"
   ]
  },
  {
   "cell_type": "code",
   "execution_count": null,
   "metadata": {},
   "outputs": [],
   "source": [
    "# ones array\n",
    "# <START>\n",
    "\n",
    "# <END>\n",
    "\n",
    "print(\"ONES_ARR: \", ONE_ARR)"
   ]
  },
  {
   "cell_type": "markdown",
   "metadata": {},
   "source": [
    "### Multiplying two matrices \n",
    "Matrix multiplication is a binary operation that produces a matrix from two matrices. For matrix multiplication, the number of columns in the first matrix must be equal to the number of rows in the second matrix.\n",
    "\n",
    "`np.dot()` is used to compute the dot product of two arrays. It behaves differently for arrays of different dimensions.\n",
    "\n",
    "\n",
    "- Now, initialise two 1-D arrays A_1 and B_1 of size $3$ with random integers (search a function for integer random numbers in NumPy). Multiply the two arrays and store the result in a new array C_1."
   ]
  },
  {
   "cell_type": "code",
   "execution_count": null,
   "metadata": {},
   "outputs": [],
   "source": [
    "## <START>\n",
    "\n",
    "# <END>\n",
    "\n",
    "assert A.shape == (3,)\n",
    "assert B.shape == (3,)\n",
    "# The line above is an assert statement, which stops the program execution if the specified condition evaluates to False. \n",
    "# Assert statements are commonly used in neural network programs to verify that the matrices have the correct dimensions.\n",
    "\n",
    "print(\"A: \", A)\n",
    "print(\"B: \", B)\n",
    "print(\"C: \", C)"
   ]
  },
  {
   "cell_type": "markdown",
   "metadata": {},
   "source": [
    "- In the next step, initialise two 2-D arrays A_2 and B_2 of dimensions $3 \\times 3$ with random integers. Multiply the two arrays and store the result in a new array C_2."
   ]
  },
  {
   "cell_type": "code",
   "execution_count": null,
   "metadata": {},
   "outputs": [],
   "source": [
    "# <START>\n",
    "\n",
    "# <END>\n",
    "\n",
    "assert A.shape == (3,3)\n",
    "assert B.shape == (3,3)\n",
    "\n",
    "print(\"A: \", A)\n",
    "print(\"B: \", B)\n",
    "print(\"C: \", C)"
   ]
  },
  {
   "cell_type": "markdown",
   "metadata": {},
   "source": [
    "- In the last step, initialise two 3-D arrays A_3 and B_3 of dimensions $2 \\times 2 \\times 2$ with random integers. Multiply the two arrays and store the result in a new array C_3."
   ]
  },
  {
   "cell_type": "code",
   "execution_count": null,
   "metadata": {},
   "outputs": [],
   "source": [
    "# <START>\n",
    "\n",
    "# <END>\n",
    "\n",
    "assert A.shape == (2,2,2)\n",
    "assert B.shape == (2,2,2)\n",
    "\n",
    "print(\"A: \", A)\n",
    "print(\"B: \", B)\n",
    "print(\"C: \", C)"
   ]
  },
  {
   "cell_type": "markdown",
   "metadata": {},
   "source": [
    "### Indexing and Slicing\n",
    "Indexing and slicing are fundamental techniques for accessing and manipulating elements of an array. Indexing is used to obtain individual elements, while slicing allows you to obtain a subset of the array.\n",
    "\n",
    "**Indexing** retrieves specific elements of an array. In one-dimensional arrays, you use the index position. For multidimensional arrays, elements can be accessed using either `array[i][j]` or `array[i, j]`, where the latter is preferred. The `array[i, j]` notation is more efficient because it avoids creating a temporary intermediate array when resolving the first index, directly retrieving the desired element. This efficiency extends to higher-dimensional arrays, where elements can be accessed across multiple dimensions, e.g., `array[i, j, k]`.\n",
    "\n",
    "**Slicing** extracts portions of an array using the syntax `array[start:end:step]`.\n",
    "- `start`: Specifies where the slice begins (inclusive)\n",
    "- `end`: Specifies where the slice ends (exclusive)\n",
    "- `step`: Determines the interval between indices\n",
    "\n",
    "By default, `start` is `0`, `end` is the length of the array, and `step` is `1`. Slicing can be applied independently across dimensions in multidimensional arrays, separated by commas (e.g., `array[start:end, start:end]`). Importantly, slicing creates a view of the original array, meaning changes to the slice will reflect in the original array. If indices are out of bounds, slicing returns an empty array instead of raising an error.\n",
    "<br> \n",
    "\n",
    "*Phew! That was a lot of information. Let's put it to practice.*"
   ]
  },
  {
   "cell_type": "markdown",
   "metadata": {},
   "source": [
    "- Initialise an array x with values 1 to 10.\n",
    "    - Create a new array y that contains the first three elements of x.\n",
    "    - Create a new array z that contains the last two elements of x.\n",
    "    - Create a new array w that contains all the elements of x except the first and last element.\n",
    "    - Create a new array v with alternate elements of x starting from the first element."
   ]
  },
  {
   "cell_type": "code",
   "execution_count": null,
   "metadata": {},
   "outputs": [],
   "source": [
    "# <START>\n",
    "\n",
    "\n",
    "# <END>\n",
    "\n",
    "print(\"y: \", y)\n",
    "print(\"z: \", z)\n",
    "print(\"w: \", w)\n",
    "print(\"v: \", v)"
   ]
  },
  {
   "cell_type": "markdown",
   "metadata": {},
   "source": [
    "- Initialise a 2-D array X as follows: $$ \\begin{bmatrix}\n",
    "4 & 5 & 2 \\\\\n",
    "3 & 7 & 9 \\\\\n",
    "1 & 4 & 5 \\\\\n",
    "6 & 6 & 1\n",
    "\\end{bmatrix} $$\n",
    "    - Create a new array Y using X, that is of the form [[4, 5], [1, 4]].\n",
    "    - Create a new array Z using X, that is of the form [[5, 2], [7, 9], [4, 5]].\n"
   ]
  },
  {
   "cell_type": "code",
   "execution_count": null,
   "metadata": {},
   "outputs": [],
   "source": [
    "# <START>\n",
    "\n",
    "\n",
    "# <END>\n",
    "\n",
    "print(\"X: \", X)\n",
    "print(\"Y: \", Y)\n",
    "print(\"Z: \", Z)"
   ]
  },
  {
   "cell_type": "markdown",
   "metadata": {},
   "source": [
    "### Broadcasting\n",
    "Broadcasting is a powerful mechanism that allows NumPy to work with arrays of different shapes when performing arithmetic operations. Frequently, we have a smaller array and a larger array, and we want to use the smaller array multiple times to perform some operation on the larger array.\n",
    "Broadcasting allows this by automatically expanding the smaller array to match the shape of the larger one, making the operation possible without explicitly reshaping the arrays. This feature enhances flexibility in array operations, enabling highly efficient algorithms while minimizing memory usage. \n",
    "\n",
    "It's important to note that broadcasting is distinct from matrix multiplication or padding; it specifically refers to how NumPy handles arrays of different shapes during arithmetic operations."
   ]
  },
  {
   "cell_type": "markdown",
   "metadata": {},
   "source": [
    "\n",
    "- Initialise an array x with values 1 to 4.\n",
    "    - Create a new array y using x, that is of the form [[1, 2, 3, 4], [1, 2, 3, 4], [1, 2, 3, 4]].\n",
    "    - Create a new array z using x, that is of the form [[1, 1, 1, 1], [2, 2, 2, 2], [3, 3, 3, 3], [4, 4, 4, 4]].\n",
    "    - Implement broadcasting to add the arrays x and z and store the result in a new array w."
   ]
  },
  {
   "cell_type": "code",
   "execution_count": null,
   "metadata": {},
   "outputs": [],
   "source": [
    "# <START>\n",
    "\n",
    "\n",
    "# <END>\n",
    "\n",
    "print(\"x: \", x)\n",
    "print(\"y: \", y)\n",
    "print(\"z: \", z)\n",
    "print(\"w: \", w)"
   ]
  },
  {
   "cell_type": "markdown",
   "metadata": {},
   "source": [
    "- Initialise a 2-D array X as follows: $$ \\begin{bmatrix}\n",
    "1 & 2 & 3 \\\\\n",
    "4 & 5 & 6 \\\\\n",
    "7 & 8 & 9 \\\\\n",
    "10 & 11 & 12\n",
    "\\end{bmatrix} $$\n",
    "    - Create a new array Y using X, that is of the form [[1, 2, 3], [1, 2, 3], [1, 2, 3], [1, 2, 3]].\n",
    "    - Create a new array Z using X, that is of the form [[1, 1, 1], [2, 2, 2], [3, 3, 3], [4, 4, 4]].\n",
    "    - Multiply each element of the first row of X by 4 and each element of the second row of X by 5. Store the result in a new array W. Hint : Make an array of the form [4, 5] and use broadcasting."
   ]
  },
  {
   "cell_type": "code",
   "execution_count": null,
   "metadata": {},
   "outputs": [],
   "source": [
    "# <START>\n",
    "\n",
    "\n",
    "# <END>\n",
    "\n",
    "print(\"X: \", X)\n",
    "print(\"Y: \", Y)\n",
    "print(\"Z: \", Z)\n",
    "print(\"W: \", W)"
   ]
  },
  {
   "cell_type": "markdown",
   "metadata": {},
   "source": [
    "### Vectorization\n",
    "Vectorization is the process of transforming an algorithm to operate on a set of values (a vector) simultaneously, rather than processing each value individually. This eliminates the need for explicit loops, leading to more concise, readable, and efficient code. Vectorized code is typically faster than non-vectorized code because it leverages optimized, low-level implementations in C. \n",
    "\n",
    "To highlight the benefits of vectorization, let's compare the execution times of a non-vectorized approach with a vectorized one, where the task is to multiply each element of a 2D array by 3.\n",
    "\n",
    "- Create a 2-D array `arr_nonvectorised` of dimensions $1000 \\times 1000$ with random integers. Multiply each element of the array by 3 using a non-vectorized approach and store the result in a new array Y. Calculate the time taken to perform this operation.\n",
    "- Create a copy of the original array `arr_nonvectorised` and store it in a new array `arr_vectorised`. Multiply each element of the array by 3 using a vectorized approach and store the result in a new array Z. Calculate the time taken to perform this operation.\n",
    "\n",
    "And u can see the difference in time taken by both the approaches."
   ]
  },
  {
   "cell_type": "code",
   "execution_count": null,
   "metadata": {},
   "outputs": [],
   "source": [
    "import time\n",
    "\n",
    "# Initialise both the aarays\n",
    "# <START>\n",
    "\n",
    "# <END>\n",
    "\n",
    "start_nv = time.time()\n",
    "\n",
    "# Non-vectorized approach\n",
    "# <START>\n",
    "\n",
    "# <END>\n",
    "\n",
    "end_nv = time.time()\n",
    "\n",
    "print(\"Time taken in non-vectorized approach:\", 1000*(end_nv-start_nv), \"ms\")\n",
    "\n",
    "\n",
    "start_v = time.time()\n",
    "\n",
    "# Vectorized approach\n",
    "# <START>\n",
    "\n",
    "# <END>\n",
    "\n",
    "end_v = time.time()\n",
    "\n",
    "print(\"Time taken in vectorized approach:\", 1000*(end_v-start_v), \"ms\")\n",
    "\n",
    "\n",
    "# Uncomment and run the following line to verify that both approaches are achieving the same result.\n",
    "# print(\"Non-vectorized array: \", Y)\n",
    "# print(\"Vectorized array: \", Z)"
   ]
  },
  {
   "cell_type": "markdown",
   "metadata": {},
   "source": [
    "Experimenting with array dimensions reveals that the execution times for smaller arrays may not differ significantly. However, in the context of neural networks, where we often work with large datasets, the importance of vectorization becomes clear. Vectorization optimizes performance by leveraging efficient array operations, making it crucial for handling the computational demands of large-scale data processing."
   ]
  },
  {
   "cell_type": "markdown",
   "metadata": {},
   "source": [
    "Congratulations on completing this assignment!🥳 You can now move on to the next one."
   ]
  }
 ],
 "metadata": {
  "language_info": {
   "name": "python"
  }
 },
 "nbformat": 4,
 "nbformat_minor": 2
}
