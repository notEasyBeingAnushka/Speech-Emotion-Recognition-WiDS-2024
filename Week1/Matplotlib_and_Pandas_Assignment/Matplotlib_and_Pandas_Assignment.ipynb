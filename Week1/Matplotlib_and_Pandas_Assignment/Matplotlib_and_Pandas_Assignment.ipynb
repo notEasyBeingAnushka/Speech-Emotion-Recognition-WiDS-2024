{
 "cells": [
  {
   "cell_type": "markdown",
   "metadata": {},
   "source": [
    "## Pandas Assignment"
   ]
  },
  {
   "cell_type": "markdown",
   "metadata": {},
   "source": [
    "This assignment will teach you how to manipulate, clean, analyze, and visualize data using various Pandas functions and operations."
   ]
  },
  {
   "cell_type": "markdown",
   "metadata": {},
   "source": [
    "*Let's start by importing the pandas library.*"
   ]
  },
  {
   "cell_type": "code",
   "execution_count": null,
   "metadata": {},
   "outputs": [],
   "source": [
    "import pandas as pd"
   ]
  },
  {
   "cell_type": "markdown",
   "metadata": {},
   "source": [
    "- Load the data from the file `company_sales_data.csv` present in this folder, into a dataframe `df`. \n",
    "- Print the first 5 rows of the dataframe.\n",
    "- Print the last 5 rows of the dataframe.\n",
    "- Print 5 random rows of the dataframe.\n",
    "- Print the number of rows and the number of columns in the dataframe.\n",
    "- Print the names of the columns in the dataframe.\n",
    "- Print the summary of the dataframe.\n",
    "- Print the basic statistics of numerical columns in the dataframe.\n",
    "- Find the number of missing values in each column.\n",
    "- Print the data of only October month.\n",
    "- Find the total profit of the company.\n",
    "- Create a new dataframe `df_filtered` with total profit greater than 250000.\n",
    "- Sort the dataframe based on the total profit."
   ]
  },
  {
   "cell_type": "code",
   "execution_count": null,
   "metadata": {},
   "outputs": [],
   "source": [
    "# your code here\n"
   ]
  },
  {
   "cell_type": "markdown",
   "metadata": {},
   "source": [
    "## Matplotlib Assignment"
   ]
  },
  {
   "cell_type": "markdown",
   "metadata": {},
   "source": [
    "This assignment will teach you how to create various types of visualizations, such as line plots, bar charts, histograms, and scatter plots, to analyze and present data effectively.\n",
    "\n",
    "*The matplotlib library is already imported for you.*"
   ]
  },
  {
   "cell_type": "code",
   "execution_count": null,
   "metadata": {},
   "outputs": [],
   "source": [
    "import matplotlib.pyplot as plt"
   ]
  },
  {
   "cell_type": "markdown",
   "metadata": {},
   "source": [
    "Now, using the data loaded in the previous section (or by reloading it), create various plots based on the `df` DataFrame."
   ]
  },
  {
   "cell_type": "markdown",
   "metadata": {},
   "source": [
    "- Read Total profit of all months and show it using a line plot. <br>\n",
    "Generated line plot must include the following properties:–\n",
    "\n",
    "    - Line Style dotted and Line-color should be red\n",
    "    - Show legend at the lower right location.\n",
    "    - X label name = Month Number\n",
    "    - Y label name = Profit in dollar\n",
    "    - Add a circle marker.\n",
    "    - Line marker color as read\n",
    "    - Line width should be 3"
   ]
  },
  {
   "cell_type": "code",
   "execution_count": null,
   "metadata": {},
   "outputs": [],
   "source": [
    "# your code here\n"
   ]
  },
  {
   "cell_type": "markdown",
   "metadata": {},
   "source": [
    "- Read all product sales data and show it using a multiline plot. Display the number of units sold per month for each product using multiline plots. (i.e., separate plotline and different color for each product )."
   ]
  },
  {
   "cell_type": "code",
   "execution_count": null,
   "metadata": {},
   "outputs": [],
   "source": [
    "# your code here\n"
   ]
  },
  {
   "cell_type": "markdown",
   "metadata": {},
   "source": [
    "- Calculate total sale data for last year for each product and show it using a Pie chart. <br>\n",
    "Note: In Pie chart display Number of units sold per year for each product in percentage."
   ]
  },
  {
   "cell_type": "code",
   "execution_count": null,
   "metadata": {},
   "outputs": [],
   "source": [
    "# your code here\n"
   ]
  },
  {
   "cell_type": "markdown",
   "metadata": {},
   "source": [
    "- Read total units sold per month data and show it using the Bar chart. The bar chart should display the number of units sold per month for each product. Add a separate bar for each product in the same chart."
   ]
  },
  {
   "cell_type": "code",
   "execution_count": null,
   "metadata": {},
   "outputs": [],
   "source": [
    "# your code here\n"
   ]
  }
 ],
 "metadata": {
  "language_info": {
   "name": "python"
  }
 },
 "nbformat": 4,
 "nbformat_minor": 2
}
