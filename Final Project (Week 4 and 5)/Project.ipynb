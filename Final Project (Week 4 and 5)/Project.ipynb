{
 "cells": [
  {
   "cell_type": "markdown",
   "metadata": {},
   "source": [
    "<div align=\"center\">\n",
    "-------------- Real Project Time -------------\n",
    "</div>"
   ]
  },
  {
   "cell_type": "markdown",
   "metadata": {},
   "source": [
    "Use the `tensorflow.keras` library for building and training the models."
   ]
  },
  {
   "cell_type": "code",
   "execution_count": null,
   "metadata": {},
   "outputs": [],
   "source": [
    "# Import libraries"
   ]
  },
  {
   "cell_type": "markdown",
   "metadata": {},
   "source": [
    "Define a function to extract features from the given audio file using the `librosa` library. You can vary the features however you like, but the preferred features are MFCC, chroma, and mel spectrogram."
   ]
  },
  {
   "cell_type": "code",
   "execution_count": null,
   "metadata": {},
   "outputs": [],
   "source": [
    "def extract_features(filename, list_of_features):\n",
    "    pass"
   ]
  },
  {
   "cell_type": "markdown",
   "metadata": {},
   "source": [
    "Now, create a function to load the data from the downloaded audio files. Ensure that you handle the file paths and formats properly to enable smooth and efficient data loading."
   ]
  },
  {
   "cell_type": "code",
   "execution_count": null,
   "metadata": {},
   "outputs": [],
   "source": [
    "def load_data(test_size):\n",
    "    pass"
   ]
  },
  {
   "cell_type": "markdown",
   "metadata": {},
   "source": [
    "Use the load_data function to load the audio data, and then split it using the `train_test_split` function."
   ]
  },
  {
   "cell_type": "code",
   "execution_count": null,
   "metadata": {},
   "outputs": [],
   "source": [
    "# Split the dataset into training and testing data with testing data = 0.2 of total data"
   ]
  },
  {
   "cell_type": "markdown",
   "metadata": {},
   "source": [
    "Now, define the model using a simple neural network. \n",
    "- The model should have a hidden layer with 300 nodes and an output layer with nodes corresponding to the number of emotions.\n",
    "- Use ReLU for the hidden layer activation and Softmax for the output layer (feel free to experiment with other activation functions as well).\n",
    "- Set the loss function to categorical cross-entropy, the optimizer to Adam, and the metric to accuracy. \n",
    "- You can choose a batch size of 256 and 300 epochs, but these parameters are flexible and can be adjusted based on your needs."
   ]
  },
  {
   "cell_type": "code",
   "execution_count": null,
   "metadata": {},
   "outputs": [],
   "source": [
    "# Define the model.\n",
    "model = None"
   ]
  },
  {
   "cell_type": "markdown",
   "metadata": {},
   "source": [
    "Now, everything’s easy-peezy!🎉 \\\n",
    "All you have to do is fit the model to the training data just like you always do, and then predict the results for the testing data. Once you've done that, print the accuracy and see how well your model performs!😎 It’s going to be awesome, I promise!"
   ]
  },
  {
   "cell_type": "code",
   "execution_count": null,
   "metadata": {},
   "outputs": [],
   "source": [
    "# Fit the model on training data with validation split of 0.2"
   ]
  },
  {
   "cell_type": "code",
   "execution_count": null,
   "metadata": {},
   "outputs": [],
   "source": [
    "# Predict for testing data and printout the accuracy"
   ]
  },
  {
   "cell_type": "markdown",
   "metadata": {},
   "source": [
    "Now comes the fun learning part!😊 \\\n",
    "Here's a cool new step for you: after making your predictions, go ahead and print the classification report. It will give you a deeper insight into how well your model is performing across all the classes, highlighting the key metrics that show just how awesome your model really is!"
   ]
  },
  {
   "cell_type": "code",
   "execution_count": null,
   "metadata": {},
   "outputs": [],
   "source": [
    "# Print the classification report for the model\n",
    "from sklearn.metrics import classification_report"
   ]
  },
  {
   "cell_type": "markdown",
   "metadata": {},
   "source": [
    "Just for fun, why not explore some cool callbacks you can use in `model.fit()`? \\\n",
    "For resources, check out [Keras Callbacks Documentation](https://keras.io/api/callbacks/) and dive in on your own, or just ask ChatGPT for help! :)\n",
    "\n",
    "Now, try enhancing your model by using the *EarlyStopping*, *LearningRateScheduler*, and *ModelCheckpoint* callbacks. These will help you control training better, avoid overfitting, and save your model at the best checkpoints. Have fun experimenting!✨"
   ]
  },
  {
   "cell_type": "markdown",
   "metadata": {},
   "source": [
    "#### Have fun – you just completed the project!🎉 Great job and keep rocking!"
   ]
  }
 ],
 "metadata": {
  "kernelspec": {
   "display_name": "Python 3",
   "language": "python",
   "name": "python3"
  },
  "language_info": {
   "name": "python",
   "version": "3.10.12"
  }
 },
 "nbformat": 4,
 "nbformat_minor": 2
}
