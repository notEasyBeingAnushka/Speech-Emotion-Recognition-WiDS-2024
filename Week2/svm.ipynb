{
  "cells": [
    {
      "cell_type": "markdown",
      "metadata": {
        "id": "6AUm24WhPpVm"
      },
      "source": [
        "## Support Vector Machine (SVM) from Scratch\n",
        "\n",
        "### SVM Basic Concepts and Equations\n",
        "\n",
        "- **Hyperplane**: A decision boundary used to separate data points from different classes in a feature space. In an n-dimensional space, the hyperplane can be represented as: $$ w \\cdot x + b = 0 $$ where \\( w \\) is the weight vector, \\( x \\) is the input vector, and \\( b \\) is the bias term.\n",
        "\n",
        "- **Margin**: The distance between the hyperplane and the nearest data points from each class. SVM aims to maximize this margin for optimal separation.\n",
        "\n",
        "- **Optimization Problem**: The goal of SVM is to solve the following optimization problem to find the optimal hyperplane: $$ \\min_{w, b} \\frac{1}{2} \\|w\\|^2 $$ subject to: $$ y_i (w \\cdot x_i + b) \\geq 1 \\quad \\forall i $$ where \\( y_i \\) is the class label of the \\( i \\)-th data point, and \\( x_i \\) is the \\( i \\)-th data point.\n",
        "\n",
        "### Objective Function with L2 regularisation (Optimized version)\n",
        "The objective function of a linear SVM with L2 regularization is given by: $$ \\min_{w, b} \\left[ \\frac{1}{2} \\|w\\|^2 + C \\sum_{i=1}^n \\max(0, 1 - y_i (w \\cdot x_i - b)) \\right] $$ where:\n",
        "- \\( w \\) is the weight vector.\n",
        "- \\( b \\) is the bias term.\n",
        "- \\( C \\) is the regularization parameter.\n",
        "- \\( $y_i$ \\) are the labels {-1, 1}.\n",
        "- \\( $x_i$ \\) are the feature vectors.\n",
        "- \\( n \\) is the number of samples.\n",
        "\n",
        "### Hinge Loss\n",
        "The hinge loss for a single sample is given by: $$ L_i(w, b) = \\max(0, 1 - y_i (w \\cdot x_i - b)) $$\n",
        "\n",
        "### Gradient of the Objective Function\n",
        "To minimize the objective function, we use gradient descent. We need the gradients of the objective function with respect to \\( w \\) and \\( b \\).\n",
        "\n",
        "- #### Gradient with Respect to \\( w \\)\n",
        "The gradient of the regularization term is: $$ \\nabla_{w} \\left( \\frac{1}{2} \\|w\\|^2 \\right) = w $$\n",
        "<br>\n",
        "The gradient of the hinge loss term is:\n",
        "$$\n",
        "\\nabla_{w} L_i(w, b) =\n",
        "\\begin{cases}\n",
        "0 & \\text{if } y_i (w \\cdot x_i - b) \\geq 1 \\\\\n",
        "-y_i x_i & \\text{if } y_i (w \\cdot x_i - b) < 1\n",
        "\\end{cases}\n",
        "$$\n",
        "<br>\n",
        "\n",
        "Combining these, the total gradient with respect to \\( w \\) is: \n",
        "$$ \\nabla_{w} J(w, b) = w + C \\sum_{i=1}^n \\nabla_{w} L_i(w, b) $$\n",
        "\n",
        "For a single sample update (stochastic gradient descent), this becomes: \n",
        "$$ \\nabla_{w} J(w, b) = \n",
        "\\begin{cases}\n",
        "w & \\text{if}  y_i (w \\cdot x_i - b) \\geq 1 \\\\\n",
        "w - C y_i x_i & \\text{if} y_i (w \\cdot x_i - b) < 1 \n",
        "\\end{cases}\n",
        "$$\n",
        "\n",
        "- #### Gradient with Respect to \\( b \\)\n",
        "The gradient of the hinge loss term with respect to \\( b \\) is:\n",
        "$$\n",
        "\\nabla_{b} L_i(w, b) =\n",
        "\\begin{cases}\n",
        "0 & \\text{if } y_i (w \\cdot x_i - b) \\geq 1 \\\\\n",
        "y_i & \\text{if } y_i (w \\cdot x_i - b) < 1\n",
        "\\end{cases}\n",
        "$$\n",
        "<br>\n",
        "\n",
        "For a single sample update, this becomes:\n",
        "$$ \\nabla_{b} J(w, b) = \n",
        "\\begin{cases}\n",
        "0 & \\text{if}  y_i (w \\cdot x_i - b) \\geq 1 \\\\\n",
        "-y_i & \\text{if} y_i (w \\cdot x_i - b) < 1\n",
        "\\end{cases}\n",
        "$$\n",
        "\n",
        "### Weight and Bias Update Equations\n",
        "Using gradient descent, we update the weights and bias by moving in the direction of the negative gradient:\n",
        "\n",
        "1. **Condition is met (correct classification with a margin):**\n",
        "\n",
        "$$ y_i (w \\cdot x_i - b) \\geq 1 $$\n",
        "\n",
        "Update rule for weights: $$ w \\leftarrow w - \\eta \\nabla_{w} J(w, b) = w - \\eta (2 \\lambda w) $$\n",
        "\n",
        "2. **Condition is not met (misclassification or within the margin):**\n",
        "\n",
        "$$ y_i (w \\cdot x_i - b) < 1 $$\n",
        "<br>\n",
        "\n",
        "Update rule for weights: $$ w \\leftarrow w - \\eta \\nabla_{w} J(w, b) = w - \\eta (2 \\lambda w - y_i x_i) $$ \n",
        "\n",
        "Update rule for bias: $$ b \\leftarrow b - \\eta \\nabla_{b} J(w, b) = b - \\eta (-y_i) = b + \\eta y_i $$"
      ]
    },
    {
      "cell_type": "markdown",
      "metadata": {},
      "source": [
        "Let's implement the SVM algorithm from scratch using Python."
      ]
    },
    {
      "cell_type": "code",
      "execution_count": null,
      "metadata": {
        "id": "ZYVpu9TESIZ6"
      },
      "outputs": [],
      "source": [
        "# Importing the libraries\n",
        "import numpy as np\n",
        "import pandas as pd\n",
        "from sklearn.model_selection import train_test_split\n",
        "from sklearn.metrics import accuracy_score"
      ]
    },
    {
      "cell_type": "markdown",
      "metadata": {},
      "source": [
        "Preparing the data:"
      ]
    },
    {
      "cell_type": "code",
      "execution_count": null,
      "metadata": {},
      "outputs": [],
      "source": [
        "# Load the dataset from the data.csv file given in the folder using pandas\n",
        "\n",
        "\n",
        "# Dataset has features in columns 'feature1', 'feature2', ... and the target in 'target'\n",
        "X = data[['feature1', 'feature2']].values\n",
        "y = data['target'].values\n",
        "\n",
        "# Split the dataset into training and test sets\n",
        "X_train, X_test, y_train, y_test = train_test_split(X, y, test_size=0.2, random_state=42)"
      ]
    },
    {
      "cell_type": "markdown",
      "metadata": {},
      "source": [
        "Implement the missing functions in the SVM class provided below and display the model's accuracy."
      ]
    },
    {
      "cell_type": "code",
      "execution_count": null,
      "metadata": {},
      "outputs": [],
      "source": [
        "class SVM:\n",
        "    def __init__(self, learning_rate=0.001, lambda_param=0.01, n_iters=1000):\n",
        "        self.lr = learning_rate\n",
        "        self.lambda_param = lambda_param\n",
        "        self.n_iters = n_iters\n",
        "        self.w = None\n",
        "        self.b = None\n",
        "\n",
        "    def fit(self, X, y):\n",
        "        # Initialize weights and bias\n",
        "\n",
        "        for _ in range(self.n_iters):\n",
        "            for idx, x_i in enumerate(X):\n",
        "                #check for the condition and do weight and bias updation specified above\n",
        "\n",
        "    def predict(self, X):\n",
        "        # predict to test SVM on X_test\n",
        "\n",
        "# Initialize and train the SVM\n",
        "\n",
        "\n",
        "# Predictions\n",
        "\n",
        "\n",
        "# Evaluate the performance using accuracy_score function imported from sklearn.metrics\n"
      ]
    }
  ],
  "metadata": {
    "colab": {
      "provenance": []
    },
    "kernelspec": {
      "display_name": "Python 3",
      "name": "python3"
    },
    "language_info": {
      "name": "python"
    }
  },
  "nbformat": 4,
  "nbformat_minor": 0
}
